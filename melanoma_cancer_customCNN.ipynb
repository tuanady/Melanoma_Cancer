{
 "cells": [
  {
   "cell_type": "code",
   "execution_count": null,
   "id": "464c88ab",
   "metadata": {},
   "outputs": [],
   "source": [
    "# Import Liberies"
   ]
  },
  {
   "cell_type": "code",
   "execution_count": 1,
   "id": "e3129bd6",
   "metadata": {},
   "outputs": [
    {
     "name": "stderr",
     "output_type": "stream",
     "text": [
      "2024-03-12 22:03:13.576514: I tensorflow/core/platform/cpu_feature_guard.cc:182] This TensorFlow binary is optimized to use available CPU instructions in performance-critical operations.\n",
      "To enable the following instructions: AVX2 FMA, in other operations, rebuild TensorFlow with the appropriate compiler flags.\n"
     ]
    }
   ],
   "source": [
    "import os, glob\n",
    "import numpy as np\n",
    "import seaborn as sns\n",
    "import matplotlib.pyplot as plt\n",
    "import pandas as pd\n",
    "\n",
    "from sklearn.model_selection import train_test_split\n",
    "from tensorflow.keras.preprocessing.image import ImageDataGenerator\n",
    "from tensorflow.keras.models import Model\n",
    "from tensorflow.keras.layers import Dense, Dropout, Flatten, Conv2D, MaxPooling2D\n",
    "from tensorflow.keras.callbacks import Callback, EarlyStopping\n",
    "from tensorflow.keras.applications import ResNet50\n",
    "from tensorflow.keras.applications.resnet50 import preprocess_input\n",
    "from sklearn.metrics import classification_report\n",
    "from tensorflow.keras.layers import Input\n",
    "from tensorflow.keras.layers import BatchNormalization\n",
    "\n",
    "\n"
   ]
  },
  {
   "cell_type": "code",
   "execution_count": null,
   "id": "8167a4d1",
   "metadata": {},
   "outputs": [],
   "source": [
    "# Data Preparation"
   ]
  },
  {
   "cell_type": "code",
   "execution_count": null,
   "id": "b1a1eba5",
   "metadata": {},
   "outputs": [],
   "source": [
    "# Define the path to the training data and testing data\n",
    "file_path = \"train\"\n",
    "file_path1 = \"test\""
   ]
  },
  {
   "cell_type": "code",
   "execution_count": null,
   "id": "10aad9a3",
   "metadata": {},
   "outputs": [],
   "source": [
    "# Obtain the class names from the training and testing directory\n",
    "name_class = os.listdir(file_path)\n",
    "name_class1 = os.listdir(file_path1)"
   ]
  },
  {
   "cell_type": "code",
   "execution_count": null,
   "id": "0a7640d9",
   "metadata": {},
   "outputs": [],
   "source": [
    "# Create a list of file paths for all images in the training and testing directory\n",
    "file_paths = list(glob.glob(file_path+'/**/*.*'))\n",
    "file_paths1 = list(glob.glob(file_path1+'/**/*.*'))"
   ]
  },
  {
   "cell_type": "code",
   "execution_count": null,
   "id": "a3639d1e",
   "metadata": {},
   "outputs": [],
   "source": [
    "# Extract labels from file paths using directory structure\n",
    "labels = list(map(lambda x: os.path.split(os.path.split(x)[0])[1], file_paths))\n",
    "labels1 = list(map(lambda x: os.path.split(os.path.split(x)[0])[1], file_paths1))"
   ]
  },
  {
   "cell_type": "code",
   "execution_count": null,
   "id": "24d7d018",
   "metadata": {},
   "outputs": [],
   "source": [
    "# Create Pandas Series for file paths and labels\n",
    "# Combine file paths and labels into a Pandas dataframe and shuffle the data\n",
    "filepath = pd.Series(file_paths, name='Filepath').astype(str)\n",
    "labels = pd.Series(labels, name='Label')\n",
    "data = pd.concat([filepath,labels], axis=1)\n",
    "data = data.sample(frac=1).reset_index(drop=True)\n",
    "data.head(5)"
   ]
  },
  {
   "cell_type": "code",
   "execution_count": null,
   "id": "43ed9098",
   "metadata": {},
   "outputs": [],
   "source": [
    "# Create Pandas Series for file paths and labels\n",
    "# Combine file paths and labels into a Pandas dataframe and shuffle the data\n",
    "filepath1 = pd.Series(file_paths1, name='Filepath').astype(str)\n",
    "labels1 = pd.Series(labels1, name='Label')\n",
    "data1 = pd.concat([filepath1,labels1], axis=1)\n",
    "data1 = data1.sample(frac=1).reset_index(drop=True)\n",
    "data1.head(5)"
   ]
  },
  {
   "cell_type": "code",
   "execution_count": null,
   "id": "ef782f7f",
   "metadata": {},
   "outputs": [],
   "source": [
    "# Visualize the distribution of classes and display a grid of training images\n",
    "counts = data.Label.value_counts()\n",
    "sns.barplot(x=counts.index, y=counts)\n",
    "plt.xlabel('Type')\n",
    "plt.xticks(rotation=90);"
   ]
  },
  {
   "cell_type": "code",
   "execution_count": null,
   "id": "09f367ac",
   "metadata": {},
   "outputs": [],
   "source": [
    "# Visualize the distribution of classes and display a grid of testing images\n",
    "counts = data1.Label.value_counts()\n",
    "sns.barplot(x=counts.index, y=counts)\n",
    "plt.xlabel('Type')\n",
    "plt.xticks(rotation=90);"
   ]
  },
  {
   "cell_type": "code",
   "execution_count": null,
   "id": "692588f8",
   "metadata": {},
   "outputs": [],
   "source": [
    "# Visualize the distribution of classes and display a grid of training images\n",
    "fig, axes = plt.subplots(nrows=5, ncols=3, figsize=(10,8), subplot_kw={'xticks':[],'yticks':[]})\n",
    "for i, ax in enumerate(axes.flat):\n",
    "    ax.imshow(plt.imread(data.Filepath[i]))\n",
    "    ax.set_title(data.Label[i])\n",
    "plt.tight_layout()\n",
    "plt.show()"
   ]
  },
  {
   "cell_type": "code",
   "execution_count": null,
   "id": "78bd3f3e",
   "metadata": {},
   "outputs": [],
   "source": [
    "# Visualize the distribution of classes and display a grid of testing images\n",
    "fig, axes = plt.subplots(nrows=5, ncols=3, figsize=(10,8), subplot_kw={'xticks':[],'yticks':[]})\n",
    "for i, ax in enumerate(axes.flat):\n",
    "    ax.imshow(plt.imread(data1.Filepath[i]))\n",
    "    ax.set_title(data1.Label[i])\n",
    "plt.tight_layout()\n",
    "plt.show()"
   ]
  },
  {
   "cell_type": "code",
   "execution_count": null,
   "id": "8a909da1",
   "metadata": {},
   "outputs": [],
   "source": [
    "# Data Augmentation"
   ]
  },
  {
   "cell_type": "code",
   "execution_count": null,
   "id": "a3bfb1a7",
   "metadata": {},
   "outputs": [],
   "source": [
    "# Store the prepared training and testing datasets\n",
    "train = data\n",
    "test = data1\n",
    "# Create instances of ImageDataGenerator for data augmentation and preprocessing\n",
    "train_datagen = ImageDataGenerator(preprocessing_function=preprocess_input)\n",
    "test_datagen = ImageDataGenerator(preprocessing_function=preprocess_input)"
   ]
  },
  {
   "cell_type": "code",
   "execution_count": null,
   "id": "7a546332",
   "metadata": {},
   "outputs": [],
   "source": [
    "# Set up flow generators for training, validation, and testing data\n",
    "train_gen = train_datagen.flow_from_dataframe(\n",
    "    dataframe=train,\n",
    "    x_col='Filepath',\n",
    "    y_col='Label',\n",
    "    target_size=(100,100),\n",
    "    class_mode='categorical',\n",
    "    batch_size=32,\n",
    "    shuffle=True,\n",
    "    seed=42   \n",
    ")\n",
    "\n",
    "\n",
    "valid_gen = train_datagen.flow_from_dataframe(\n",
    "    dataframe=test,\n",
    "    x_col='Filepath',\n",
    "    y_col='Label',\n",
    "    target_size=(100,100),\n",
    "    class_mode='categorical',\n",
    "    batch_size=32,\n",
    "    shuffle=True,\n",
    "    seed=42   \n",
    ")\n",
    "\n",
    "\n",
    "test_gen = train_datagen.flow_from_dataframe(\n",
    "    dataframe=test,\n",
    "    x_col='Filepath',\n",
    "    y_col='Label',\n",
    "    target_size=(100,100),\n",
    "    class_mode='categorical',\n",
    "    batch_size=32,\n",
    "    shuffle=False \n",
    ")"
   ]
  },
  {
   "cell_type": "code",
   "execution_count": null,
   "id": "9eba8a69",
   "metadata": {},
   "outputs": [],
   "source": [
    "# Model Definition"
   ]
  },
  {
   "cell_type": "code",
   "execution_count": null,
   "id": "687891e5",
   "metadata": {},
   "outputs": [],
   "source": [
    "# Define your custom CNN model\n",
    "inputs = Input(shape=(100, 100, 3))\n",
    "x = Conv2D(128, (3, 3), activation='relu')(inputs)\n",
    "x = BatchNormalization()(x)\n",
    "x = MaxPooling2D(pool_size=(2, 2))(x)\n",
    "x = Conv2D(256, (3, 3), activation='relu')(x)\n",
    "x = BatchNormalization()(x)\n",
    "x = MaxPooling2D(pool_size=(2, 2))(x)\n",
    "x = Flatten()(x)\n",
    "x = Dense(256, activation='relu')(x)\n",
    "x = Dropout(0.5)(x)\n",
    "outputs = Dense(2, activation='softmax')(x)\n",
    "\n",
    "model = Model(inputs=inputs, outputs=outputs)"
   ]
  },
  {
   "cell_type": "code",
   "execution_count": null,
   "id": "35949734",
   "metadata": {},
   "outputs": [],
   "source": [
    "# Compile the model with Adam optimizer, categorical crossentropy loss, and accuracy metric\n",
    "model.compile(\n",
    "    optimizer='adam',\n",
    "    loss='categorical_crossentropy',\n",
    "    metrics=['accuracy']\n",
    ")"
   ]
  },
  {
   "cell_type": "code",
   "execution_count": null,
   "id": "8b9ae83a",
   "metadata": {},
   "outputs": [],
   "source": [
    "# Implement early stopping during training\n",
    "my_callbacks = [EarlyStopping(monitor='val_accuracy',\n",
    "                min_delta=0,\n",
    "                patience=5,\n",
    "                mode='auto')]"
   ]
  },
  {
   "cell_type": "code",
   "execution_count": null,
   "id": "1fe3ca1c",
   "metadata": {},
   "outputs": [],
   "source": [
    "# Model Training"
   ]
  },
  {
   "cell_type": "code",
   "execution_count": null,
   "id": "b4582525",
   "metadata": {},
   "outputs": [],
   "source": [
    "\n",
    "# Train the model on the validation data\n",
    "history = model.fit(\n",
    "    train_gen,\n",
    "    validation_data=valid_gen,\n",
    "    epochs=1,\n",
    "    callbacks=my_callbacks\n",
    ")"
   ]
  },
  {
   "cell_type": "code",
   "execution_count": null,
   "id": "88c62d63",
   "metadata": {},
   "outputs": [],
   "source": [
    "model.save('my_model.keras')"
   ]
  },
  {
   "cell_type": "code",
   "execution_count": null,
   "id": "1c42c81e",
   "metadata": {},
   "outputs": [],
   "source": [
    "# Model Evaluation and Visualization"
   ]
  },
  {
   "cell_type": "code",
   "execution_count": null,
   "id": "035411fb",
   "metadata": {},
   "outputs": [],
   "source": [
    "from tensorflow.keras.models import load_model\n",
    "loaded_model_imageNet = load_model('my_model.keras')\n",
    "from tensorflow.keras.applications.resnet50 import preprocess_input, decode_predictions\n",
    "import matplotlib.pyplot as plt\n",
    "\n",
    "import cv2 \n",
    "import numpy as np\n",
    "from matplotlib.pyplot import imread\n",
    "from matplotlib.pyplot import imshow\n",
    "from tensorflow.keras.preprocessing import image\n",
    "from tensorflow.keras.applications.imagenet_utils import decode_predictions\n",
    "from tensorflow.keras.applications.imagenet_utils import preprocess_input"
   ]
  },
  {
   "cell_type": "code",
   "execution_count": null,
   "id": "51650de0",
   "metadata": {},
   "outputs": [],
   "source": [
    "# Plot training and validation accuracy over epochs\n",
    "pd.DataFrame(history.history)[['accuracy','val_accuracy']].plot()\n",
    "plt.title('Accuracy')\n",
    "plt.show()\n",
    "# Plot training and validation loss over epochs\n",
    "pd.DataFrame(history.history)[['loss','val_loss']].plot()\n",
    "plt.title('Loss')\n",
    "plt.show()"
   ]
  },
  {
   "cell_type": "code",
   "execution_count": null,
   "id": "675132b4",
   "metadata": {},
   "outputs": [],
   "source": [
    "# Evaluate the model on the test set\n",
    "results = model.evaluate(test_gen, verbose=0)\n",
    "# Print test loss and accuracy\n",
    "print(\" Test Loss: {: .5f}\".format(results[0]))\n",
    "print(\" Test Accuracy: {: .2f}%\".format(results[1]*100))"
   ]
  },
  {
   "cell_type": "code",
   "execution_count": null,
   "id": "8bc2922c",
   "metadata": {},
   "outputs": [],
   "source": [
    "# Make predictions on the test set and print a classification report\n",
    "pred = model.predict(test_gen)\n",
    "pred = np.argmax(pred, axis=1)\n",
    "\n",
    "labels = (train_gen.class_indices)\n",
    "labels = dict((v,k)for k,v in labels.items())\n",
    "pred =[labels[k] for k in pred]\n",
    "\n",
    "y_test = list(test.Label)\n",
    "print(classification_report(y_test, pred))\n"
   ]
  },
  {
   "cell_type": "code",
   "execution_count": null,
   "id": "43cabab5",
   "metadata": {},
   "outputs": [],
   "source": [
    "# Visualize predictions on a grid of images from the test set\n",
    "fig, axes = plt.subplots(nrows=5, ncols=2, figsize=(12, 8),\n",
    "                         subplot_kw={\"xticks\": [], \"yticks\": []})\n",
    "for i, ax in enumerate(axes.flat):\n",
    "    ax.imshow(plt.imread(test.Filepath.iloc[i]))\n",
    "    ax.set_title(f\"True: {test.Label.iloc[i]}\\nPredicted: {pred[i]}\")\n",
    "plt.tight_layout()\n",
    "plt.show()\n",
    "\n"
   ]
  },
  {
   "cell_type": "code",
   "execution_count": null,
   "id": "9a7686d9",
   "metadata": {},
   "outputs": [],
   "source": [
    "# Prediction on a Single Image"
   ]
  },
  {
   "cell_type": "code",
   "execution_count": null,
   "id": "88bf7de4",
   "metadata": {},
   "outputs": [],
   "source": [
    "# Example of predicting on a new image\n",
    "img_path = \"test1.jpg\"\n",
    "img = cv2.imread(img_path)\n",
    "img = cv2.resize(img, (100,100))\n",
    "\n",
    "x = np.expand_dims(img, axis=0)\n",
    "x = preprocess_input(x)\n",
    "result = loaded_model_imageNet.predict(x)\n",
    "print((result*100).astype(\"int\"))\n",
    "plt.imshow(img)"
   ]
  },
  {
   "cell_type": "code",
   "execution_count": null,
   "id": "794ab854",
   "metadata": {},
   "outputs": [],
   "source": [
    "p = list((result*100).astype('int'))\n",
    "pp = list(p[0])\n",
    "print(pp)\n",
    "print(\"Largest element is:\", max(pp))"
   ]
  },
  {
   "cell_type": "code",
   "execution_count": null,
   "id": "7d393e71",
   "metadata": {},
   "outputs": [],
   "source": [
    "index = pp.index(max(pp))\n",
    "name_class=['benign','melignant']\n",
    "name_class[index]"
   ]
  },
  {
   "cell_type": "code",
   "execution_count": null,
   "id": "8f32ae33",
   "metadata": {},
   "outputs": [],
   "source": [
    "plt.title(name_class[index])\n",
    "plt.imshow(img)"
   ]
  }
 ],
 "metadata": {
  "kernelspec": {
   "display_name": "Python 3",
   "language": "python",
   "name": "python3"
  },
  "language_info": {
   "codemirror_mode": {
    "name": "ipython",
    "version": 3
   },
   "file_extension": ".py",
   "mimetype": "text/x-python",
   "name": "python",
   "nbconvert_exporter": "python",
   "pygments_lexer": "ipython3",
   "version": "3.11.2"
  }
 },
 "nbformat": 4,
 "nbformat_minor": 5
}
